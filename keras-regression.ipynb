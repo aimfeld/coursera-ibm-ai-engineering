{
 "cells": [
  {
   "cell_type": "markdown",
   "metadata": {},
   "source": [
    "# Keras Regression Model\n",
    "\n",
    "Peer-graded assignment for the [Introduction to Deep Learning & Neural Networks with Keras](https://www.coursera.org/learn/introduction-to-deep-learning-with-keras/home/week/5) course.\n",
    "\n",
    "Note that this notebook runs with tensorflow 2.3\n"
   ]
  },
  {
   "cell_type": "markdown",
   "metadata": {},
   "source": [
    "## Data import and preparation"
   ]
  },
  {
   "cell_type": "code",
   "execution_count": 1,
   "metadata": {},
   "outputs": [],
   "source": [
    "import pandas as pd\n",
    "import numpy as np"
   ]
  },
  {
   "cell_type": "code",
   "execution_count": 2,
   "metadata": {},
   "outputs": [
    {
     "data": {
      "text/html": [
       "<div>\n",
       "<style scoped>\n",
       "    .dataframe tbody tr th:only-of-type {\n",
       "        vertical-align: middle;\n",
       "    }\n",
       "\n",
       "    .dataframe tbody tr th {\n",
       "        vertical-align: top;\n",
       "    }\n",
       "\n",
       "    .dataframe thead th {\n",
       "        text-align: right;\n",
       "    }\n",
       "</style>\n",
       "<table border=\"1\" class=\"dataframe\">\n",
       "  <thead>\n",
       "    <tr style=\"text-align: right;\">\n",
       "      <th></th>\n",
       "      <th>Cement</th>\n",
       "      <th>Blast Furnace Slag</th>\n",
       "      <th>Fly Ash</th>\n",
       "      <th>Water</th>\n",
       "      <th>Superplasticizer</th>\n",
       "      <th>Coarse Aggregate</th>\n",
       "      <th>Fine Aggregate</th>\n",
       "      <th>Age</th>\n",
       "      <th>Strength</th>\n",
       "    </tr>\n",
       "  </thead>\n",
       "  <tbody>\n",
       "    <tr>\n",
       "      <th>0</th>\n",
       "      <td>540.0</td>\n",
       "      <td>0.0</td>\n",
       "      <td>0.0</td>\n",
       "      <td>162.0</td>\n",
       "      <td>2.5</td>\n",
       "      <td>1040.0</td>\n",
       "      <td>676.0</td>\n",
       "      <td>28</td>\n",
       "      <td>79.99</td>\n",
       "    </tr>\n",
       "    <tr>\n",
       "      <th>1</th>\n",
       "      <td>540.0</td>\n",
       "      <td>0.0</td>\n",
       "      <td>0.0</td>\n",
       "      <td>162.0</td>\n",
       "      <td>2.5</td>\n",
       "      <td>1055.0</td>\n",
       "      <td>676.0</td>\n",
       "      <td>28</td>\n",
       "      <td>61.89</td>\n",
       "    </tr>\n",
       "    <tr>\n",
       "      <th>2</th>\n",
       "      <td>332.5</td>\n",
       "      <td>142.5</td>\n",
       "      <td>0.0</td>\n",
       "      <td>228.0</td>\n",
       "      <td>0.0</td>\n",
       "      <td>932.0</td>\n",
       "      <td>594.0</td>\n",
       "      <td>270</td>\n",
       "      <td>40.27</td>\n",
       "    </tr>\n",
       "    <tr>\n",
       "      <th>3</th>\n",
       "      <td>332.5</td>\n",
       "      <td>142.5</td>\n",
       "      <td>0.0</td>\n",
       "      <td>228.0</td>\n",
       "      <td>0.0</td>\n",
       "      <td>932.0</td>\n",
       "      <td>594.0</td>\n",
       "      <td>365</td>\n",
       "      <td>41.05</td>\n",
       "    </tr>\n",
       "    <tr>\n",
       "      <th>4</th>\n",
       "      <td>198.6</td>\n",
       "      <td>132.4</td>\n",
       "      <td>0.0</td>\n",
       "      <td>192.0</td>\n",
       "      <td>0.0</td>\n",
       "      <td>978.4</td>\n",
       "      <td>825.5</td>\n",
       "      <td>360</td>\n",
       "      <td>44.30</td>\n",
       "    </tr>\n",
       "  </tbody>\n",
       "</table>\n",
       "</div>"
      ],
      "text/plain": [
       "   Cement  Blast Furnace Slag  Fly Ash  Water  Superplasticizer  \\\n",
       "0   540.0                 0.0      0.0  162.0               2.5   \n",
       "1   540.0                 0.0      0.0  162.0               2.5   \n",
       "2   332.5               142.5      0.0  228.0               0.0   \n",
       "3   332.5               142.5      0.0  228.0               0.0   \n",
       "4   198.6               132.4      0.0  192.0               0.0   \n",
       "\n",
       "   Coarse Aggregate  Fine Aggregate  Age  Strength  \n",
       "0            1040.0           676.0   28     79.99  \n",
       "1            1055.0           676.0   28     61.89  \n",
       "2             932.0           594.0  270     40.27  \n",
       "3             932.0           594.0  365     41.05  \n",
       "4             978.4           825.5  360     44.30  "
      ]
     },
     "execution_count": 2,
     "metadata": {},
     "output_type": "execute_result"
    }
   ],
   "source": [
    "df_concrete = pd.read_csv('https://cocl.us/concrete_data')\n",
    "df_concrete.head()"
   ]
  },
  {
   "cell_type": "code",
   "execution_count": 3,
   "metadata": {},
   "outputs": [
    {
     "name": "stdout",
     "output_type": "stream",
     "text": [
      "<class 'pandas.core.frame.DataFrame'>\n",
      "RangeIndex: 1030 entries, 0 to 1029\n",
      "Data columns (total 9 columns):\n",
      " #   Column              Non-Null Count  Dtype  \n",
      "---  ------              --------------  -----  \n",
      " 0   Cement              1030 non-null   float64\n",
      " 1   Blast Furnace Slag  1030 non-null   float64\n",
      " 2   Fly Ash             1030 non-null   float64\n",
      " 3   Water               1030 non-null   float64\n",
      " 4   Superplasticizer    1030 non-null   float64\n",
      " 5   Coarse Aggregate    1030 non-null   float64\n",
      " 6   Fine Aggregate      1030 non-null   float64\n",
      " 7   Age                 1030 non-null   int64  \n",
      " 8   Strength            1030 non-null   float64\n",
      "dtypes: float64(8), int64(1)\n",
      "memory usage: 72.5 KB\n"
     ]
    }
   ],
   "source": [
    "df_concrete.info()"
   ]
  },
  {
   "cell_type": "code",
   "execution_count": 4,
   "metadata": {},
   "outputs": [],
   "source": [
    "features = df_concrete.drop(columns='Strength')\n",
    "n_features = features.shape[1]\n",
    "target = df_concrete['Strength']"
   ]
  },
  {
   "cell_type": "markdown",
   "metadata": {},
   "source": [
    "## A. Build a baseline model (5 marks)"
   ]
  },
  {
   "cell_type": "code",
   "execution_count": 5,
   "metadata": {},
   "outputs": [],
   "source": [
    "import tensorflow as tf\n",
    "from tensorflow.keras.models import Sequential\n",
    "from tensorflow.keras.layers import Dense\n",
    "from sklearn.model_selection import train_test_split\n",
    "from sklearn.metrics import mean_squared_error "
   ]
  },
  {
   "cell_type": "code",
   "execution_count": 6,
   "metadata": {},
   "outputs": [],
   "source": [
    "# define regression model\n",
    "def regression_model(n_hidden_layers: int = 1):\n",
    "    model = Sequential()\n",
    "    model.add(Dense(10, activation='relu', input_shape=(n_features,)))\n",
    "    \n",
    "    # Add additional hidden layers, if more than one is specified \n",
    "    for i in range(n_hidden_layers - 1):\n",
    "        model.add(Dense(10, activation='relu'))\n",
    "        \n",
    "    model.add(Dense(1))\n",
    "    \n",
    "    model.compile(optimizer='adam', loss='mean_squared_error')\n",
    "    \n",
    "    return model"
   ]
  },
  {
   "cell_type": "code",
   "execution_count": 7,
   "metadata": {},
   "outputs": [
    {
     "name": "stdout",
     "output_type": "stream",
     "text": [
      "Model: \"sequential\"\n",
      "_________________________________________________________________\n",
      "Layer (type)                 Output Shape              Param #   \n",
      "=================================================================\n",
      "dense (Dense)                (None, 10)                90        \n",
      "_________________________________________________________________\n",
      "dense_1 (Dense)              (None, 1)                 11        \n",
      "=================================================================\n",
      "Total params: 101\n",
      "Trainable params: 101\n",
      "Non-trainable params: 0\n",
      "_________________________________________________________________\n"
     ]
    }
   ],
   "source": [
    "model = regression_model()\n",
    "model.summary()"
   ]
  },
  {
   "cell_type": "code",
   "execution_count": 8,
   "metadata": {},
   "outputs": [
    {
     "name": "stdout",
     "output_type": "stream",
     "text": [
      "Epoch 1/50\n",
      "23/23 - 0s - loss: 303813.4062\n",
      "Epoch 2/50\n",
      "23/23 - 0s - loss: 173520.1562\n",
      "Epoch 3/50\n",
      "23/23 - 0s - loss: 93436.1172\n",
      "Epoch 4/50\n",
      "23/23 - 0s - loss: 47445.4805\n",
      "Epoch 5/50\n",
      "23/23 - 0s - loss: 22614.1250\n",
      "Epoch 6/50\n",
      "23/23 - 0s - loss: 10237.2021\n",
      "Epoch 7/50\n",
      "23/23 - 0s - loss: 4764.8789\n",
      "Epoch 8/50\n",
      "23/23 - 0s - loss: 2715.3352\n",
      "Epoch 9/50\n",
      "23/23 - 0s - loss: 2046.6160\n",
      "Epoch 10/50\n",
      "23/23 - 0s - loss: 1880.5614\n",
      "Epoch 11/50\n",
      "23/23 - 0s - loss: 1817.9279\n",
      "Epoch 12/50\n",
      "23/23 - 0s - loss: 1793.9312\n",
      "Epoch 13/50\n",
      "23/23 - 0s - loss: 1770.8691\n",
      "Epoch 14/50\n",
      "23/23 - 0s - loss: 1749.5392\n",
      "Epoch 15/50\n",
      "23/23 - 0s - loss: 1728.9260\n",
      "Epoch 16/50\n",
      "23/23 - 0s - loss: 1706.2247\n",
      "Epoch 17/50\n",
      "23/23 - 0s - loss: 1683.9493\n",
      "Epoch 18/50\n",
      "23/23 - 0s - loss: 1662.6371\n",
      "Epoch 19/50\n",
      "23/23 - 0s - loss: 1640.2822\n",
      "Epoch 20/50\n",
      "23/23 - 0s - loss: 1617.8794\n",
      "Epoch 21/50\n",
      "23/23 - 0s - loss: 1595.0896\n",
      "Epoch 22/50\n",
      "23/23 - 0s - loss: 1574.2621\n",
      "Epoch 23/50\n",
      "23/23 - 0s - loss: 1551.4760\n",
      "Epoch 24/50\n",
      "23/23 - 0s - loss: 1528.2744\n",
      "Epoch 25/50\n",
      "23/23 - 0s - loss: 1507.0433\n",
      "Epoch 26/50\n",
      "23/23 - 0s - loss: 1484.3807\n",
      "Epoch 27/50\n",
      "23/23 - 0s - loss: 1462.0319\n",
      "Epoch 28/50\n",
      "23/23 - 0s - loss: 1440.0231\n",
      "Epoch 29/50\n",
      "23/23 - 0s - loss: 1417.3397\n",
      "Epoch 30/50\n",
      "23/23 - 0s - loss: 1395.7150\n",
      "Epoch 31/50\n",
      "23/23 - 0s - loss: 1374.5276\n",
      "Epoch 32/50\n",
      "23/23 - 0s - loss: 1352.8282\n",
      "Epoch 33/50\n",
      "23/23 - 0s - loss: 1330.7209\n",
      "Epoch 34/50\n",
      "23/23 - 0s - loss: 1310.4508\n",
      "Epoch 35/50\n",
      "23/23 - 0s - loss: 1289.8628\n",
      "Epoch 36/50\n",
      "23/23 - 0s - loss: 1268.4310\n",
      "Epoch 37/50\n",
      "23/23 - 0s - loss: 1247.6234\n",
      "Epoch 38/50\n",
      "23/23 - 0s - loss: 1227.7352\n",
      "Epoch 39/50\n",
      "23/23 - 0s - loss: 1207.6699\n",
      "Epoch 40/50\n",
      "23/23 - 0s - loss: 1187.5364\n",
      "Epoch 41/50\n",
      "23/23 - 0s - loss: 1169.1362\n",
      "Epoch 42/50\n",
      "23/23 - 0s - loss: 1148.0078\n",
      "Epoch 43/50\n",
      "23/23 - 0s - loss: 1128.6466\n",
      "Epoch 44/50\n",
      "23/23 - 0s - loss: 1108.4062\n",
      "Epoch 45/50\n",
      "23/23 - 0s - loss: 1089.4149\n",
      "Epoch 46/50\n",
      "23/23 - 0s - loss: 1071.4562\n",
      "Epoch 47/50\n",
      "23/23 - 0s - loss: 1052.0645\n",
      "Epoch 48/50\n",
      "23/23 - 0s - loss: 1032.0984\n",
      "Epoch 49/50\n",
      "23/23 - 0s - loss: 1014.0404\n",
      "Epoch 50/50\n",
      "23/23 - 0s - loss: 998.0515\n"
     ]
    },
    {
     "data": {
      "text/plain": [
       "1052.5276830333326"
      ]
     },
     "execution_count": 8,
     "metadata": {},
     "output_type": "execute_result"
    }
   ],
   "source": [
    "model = regression_model()\n",
    "\n",
    "# Train test split with 30% test data.\n",
    "X_train, X_test, y_train, y_test = train_test_split(features, target, test_size=0.3)\n",
    "\n",
    "# Train model with 50 epochs\n",
    "model.fit(X_train, y_train, epochs=50, verbose=2)\n",
    "\n",
    "mean_squared_error(y_test, model.predict(X_test))"
   ]
  },
  {
   "cell_type": "code",
   "execution_count": 27,
   "metadata": {},
   "outputs": [],
   "source": [
    "n_trainings = 50\n",
    "def run_trainings(X: pd.DataFrame, y: pd.Series, n_epochs: int, n_hidden_layers: int = 1) -> list:\n",
    "    \"\"\"\n",
    "    Run 50 trainings and return the mean squared errors as evaluated on 30% test data.\n",
    "    \"\"\"\n",
    "    errors = np.zeros(n_trainings)\n",
    "    for i in range(n_trainings):\n",
    "        # Create new model.\n",
    "        model = regression_model(n_hidden_layers)\n",
    "\n",
    "        # Train test split with 30% test data.\n",
    "        X_train, X_test, y_train, y_test = train_test_split(X, y, test_size=0.3)\n",
    "\n",
    "        # Train model\n",
    "        model.fit(X_train, y_train, epochs=n_epochs, verbose=0)\n",
    "\n",
    "        errors[i] = mean_squared_error(y_test, model.predict(X_test))\n",
    "    \n",
    "    # Print model structure\n",
    "    print(model.summary())\n",
    "    \n",
    "    return errors\n",
    "   "
   ]
  },
  {
   "cell_type": "code",
   "execution_count": 10,
   "metadata": {},
   "outputs": [],
   "source": [
    "def print_error_stats(errors: list):   \n",
    "    print(f'Mean of mean squared errors: {np.mean(errors)}')\n",
    "    print(f'Standard deviation of mean squared errors: {np.std(errors)}')"
   ]
  },
  {
   "cell_type": "code",
   "execution_count": 11,
   "metadata": {},
   "outputs": [
    {
     "name": "stdout",
     "output_type": "stream",
     "text": [
      "Model: \"sequential_51\"\n",
      "_________________________________________________________________\n",
      "Layer (type)                 Output Shape              Param #   \n",
      "=================================================================\n",
      "dense_102 (Dense)            (None, 10)                90        \n",
      "_________________________________________________________________\n",
      "dense_103 (Dense)            (None, 1)                 11        \n",
      "=================================================================\n",
      "Total params: 101\n",
      "Trainable params: 101\n",
      "Non-trainable params: 0\n",
      "_________________________________________________________________\n",
      "None\n"
     ]
    }
   ],
   "source": [
    "n_epochs = 50\n",
    "errors = run_trainings(features, target, n_epochs)"
   ]
  },
  {
   "cell_type": "code",
   "execution_count": 12,
   "metadata": {},
   "outputs": [
    {
     "name": "stdout",
     "output_type": "stream",
     "text": [
      "Using raw features and 50 trainings:\n",
      "Mean of mean squared errors: 374.8981800878648\n",
      "Standard deviation of mean squared errors: 382.33207659041676\n"
     ]
    }
   ],
   "source": [
    "print('Using raw features and 50 trainings:')\n",
    "print_error_stats(errors)"
   ]
  },
  {
   "cell_type": "markdown",
   "metadata": {},
   "source": [
    "## B. Normalize the data"
   ]
  },
  {
   "cell_type": "code",
   "execution_count": 13,
   "metadata": {},
   "outputs": [
    {
     "data": {
      "text/html": [
       "<div>\n",
       "<style scoped>\n",
       "    .dataframe tbody tr th:only-of-type {\n",
       "        vertical-align: middle;\n",
       "    }\n",
       "\n",
       "    .dataframe tbody tr th {\n",
       "        vertical-align: top;\n",
       "    }\n",
       "\n",
       "    .dataframe thead th {\n",
       "        text-align: right;\n",
       "    }\n",
       "</style>\n",
       "<table border=\"1\" class=\"dataframe\">\n",
       "  <thead>\n",
       "    <tr style=\"text-align: right;\">\n",
       "      <th></th>\n",
       "      <th>Cement</th>\n",
       "      <th>Blast Furnace Slag</th>\n",
       "      <th>Fly Ash</th>\n",
       "      <th>Water</th>\n",
       "      <th>Superplasticizer</th>\n",
       "      <th>Coarse Aggregate</th>\n",
       "      <th>Fine Aggregate</th>\n",
       "      <th>Age</th>\n",
       "    </tr>\n",
       "  </thead>\n",
       "  <tbody>\n",
       "    <tr>\n",
       "      <th>0</th>\n",
       "      <td>2.476712</td>\n",
       "      <td>-0.856472</td>\n",
       "      <td>-0.846733</td>\n",
       "      <td>-0.916319</td>\n",
       "      <td>-0.620147</td>\n",
       "      <td>0.862735</td>\n",
       "      <td>-1.217079</td>\n",
       "      <td>-0.279597</td>\n",
       "    </tr>\n",
       "    <tr>\n",
       "      <th>1</th>\n",
       "      <td>2.476712</td>\n",
       "      <td>-0.856472</td>\n",
       "      <td>-0.846733</td>\n",
       "      <td>-0.916319</td>\n",
       "      <td>-0.620147</td>\n",
       "      <td>1.055651</td>\n",
       "      <td>-1.217079</td>\n",
       "      <td>-0.279597</td>\n",
       "    </tr>\n",
       "    <tr>\n",
       "      <th>2</th>\n",
       "      <td>0.491187</td>\n",
       "      <td>0.795140</td>\n",
       "      <td>-0.846733</td>\n",
       "      <td>2.174405</td>\n",
       "      <td>-1.038638</td>\n",
       "      <td>-0.526262</td>\n",
       "      <td>-2.239829</td>\n",
       "      <td>3.551340</td>\n",
       "    </tr>\n",
       "    <tr>\n",
       "      <th>3</th>\n",
       "      <td>0.491187</td>\n",
       "      <td>0.795140</td>\n",
       "      <td>-0.846733</td>\n",
       "      <td>2.174405</td>\n",
       "      <td>-1.038638</td>\n",
       "      <td>-0.526262</td>\n",
       "      <td>-2.239829</td>\n",
       "      <td>5.055221</td>\n",
       "    </tr>\n",
       "    <tr>\n",
       "      <th>4</th>\n",
       "      <td>-0.790075</td>\n",
       "      <td>0.678079</td>\n",
       "      <td>-0.846733</td>\n",
       "      <td>0.488555</td>\n",
       "      <td>-1.038638</td>\n",
       "      <td>0.070492</td>\n",
       "      <td>0.647569</td>\n",
       "      <td>4.976069</td>\n",
       "    </tr>\n",
       "  </tbody>\n",
       "</table>\n",
       "</div>"
      ],
      "text/plain": [
       "     Cement  Blast Furnace Slag   Fly Ash     Water  Superplasticizer  \\\n",
       "0  2.476712           -0.856472 -0.846733 -0.916319         -0.620147   \n",
       "1  2.476712           -0.856472 -0.846733 -0.916319         -0.620147   \n",
       "2  0.491187            0.795140 -0.846733  2.174405         -1.038638   \n",
       "3  0.491187            0.795140 -0.846733  2.174405         -1.038638   \n",
       "4 -0.790075            0.678079 -0.846733  0.488555         -1.038638   \n",
       "\n",
       "   Coarse Aggregate  Fine Aggregate       Age  \n",
       "0          0.862735       -1.217079 -0.279597  \n",
       "1          1.055651       -1.217079 -0.279597  \n",
       "2         -0.526262       -2.239829  3.551340  \n",
       "3         -0.526262       -2.239829  5.055221  \n",
       "4          0.070492        0.647569  4.976069  "
      ]
     },
     "execution_count": 13,
     "metadata": {},
     "output_type": "execute_result"
    }
   ],
   "source": [
    "# Normalize the data by substracting the mean and dividing by the standard deviation.\n",
    "features_norm = (features - features.mean()) / features.std()\n",
    "features_norm.head()"
   ]
  },
  {
   "cell_type": "code",
   "execution_count": 14,
   "metadata": {},
   "outputs": [
    {
     "name": "stdout",
     "output_type": "stream",
     "text": [
      "Model: \"sequential_101\"\n",
      "_________________________________________________________________\n",
      "Layer (type)                 Output Shape              Param #   \n",
      "=================================================================\n",
      "dense_202 (Dense)            (None, 10)                90        \n",
      "_________________________________________________________________\n",
      "dense_203 (Dense)            (None, 1)                 11        \n",
      "=================================================================\n",
      "Total params: 101\n",
      "Trainable params: 101\n",
      "Non-trainable params: 0\n",
      "_________________________________________________________________\n",
      "None\n"
     ]
    }
   ],
   "source": [
    "# Run trainings with normalized features\n",
    "n_epochs = 50\n",
    "errors_norm = run_trainings(features_norm, target, n_epochs)"
   ]
  },
  {
   "cell_type": "code",
   "execution_count": 15,
   "metadata": {},
   "outputs": [
    {
     "name": "stdout",
     "output_type": "stream",
     "text": [
      "Using normalized features:\n",
      "Mean of mean squared errors: 389.36165017193105\n",
      "Standard deviation of mean squared errors: 135.65472909413674\n"
     ]
    }
   ],
   "source": [
    "print('Using normalized features:')\n",
    "print_error_stats(errors_norm)"
   ]
  },
  {
   "cell_type": "markdown",
   "metadata": {},
   "source": [
    "**How does the mean of the mean squared errors compare to that from Step A?**\n",
    "\n",
    "Answer: The mean error is about the same when using normalized data, but the standard deviation is much lower. The mean error highly depends on random chance, even when using 50 trainings (train test split randomness and tensorflow model weight initialization). Results tend to be more stable when using normalized features."
   ]
  },
  {
   "cell_type": "markdown",
   "metadata": {},
   "source": [
    "## C. Increase the number of epochs"
   ]
  },
  {
   "cell_type": "code",
   "execution_count": 16,
   "metadata": {},
   "outputs": [
    {
     "name": "stdout",
     "output_type": "stream",
     "text": [
      "Model: \"sequential_151\"\n",
      "_________________________________________________________________\n",
      "Layer (type)                 Output Shape              Param #   \n",
      "=================================================================\n",
      "dense_302 (Dense)            (None, 10)                90        \n",
      "_________________________________________________________________\n",
      "dense_303 (Dense)            (None, 1)                 11        \n",
      "=================================================================\n",
      "Total params: 101\n",
      "Trainable params: 101\n",
      "Non-trainable params: 0\n",
      "_________________________________________________________________\n",
      "None\n"
     ]
    }
   ],
   "source": [
    "n_epochs = 100\n",
    "errors_100_epochs = run_trainings(features_norm, target, n_epochs)"
   ]
  },
  {
   "cell_type": "code",
   "execution_count": 17,
   "metadata": {},
   "outputs": [
    {
     "name": "stdout",
     "output_type": "stream",
     "text": [
      "Using 100 epochs and normalized features:\n",
      "Mean of mean squared errors: 167.45088965122676\n",
      "Standard deviation of mean squared errors: 23.79470485361998\n"
     ]
    }
   ],
   "source": [
    "print('Using 100 epochs and normalized features:')\n",
    "print_error_stats(errors_100_epochs)"
   ]
  },
  {
   "cell_type": "markdown",
   "metadata": {},
   "source": [
    "**How does the mean of the mean squared errors compare to that from Step B?**\n",
    "\n",
    "Answer: Increasing the number of epochs from 50 to 100 improves the models significantly. The mean error is a lot smaller, and the standard deviation as well."
   ]
  },
  {
   "cell_type": "markdown",
   "metadata": {},
   "source": [
    "## D. Increase the number of hidden layers"
   ]
  },
  {
   "cell_type": "code",
   "execution_count": 18,
   "metadata": {},
   "outputs": [
    {
     "name": "stdout",
     "output_type": "stream",
     "text": [
      "Model: \"sequential_201\"\n",
      "_________________________________________________________________\n",
      "Layer (type)                 Output Shape              Param #   \n",
      "=================================================================\n",
      "dense_500 (Dense)            (None, 10)                90        \n",
      "_________________________________________________________________\n",
      "dense_501 (Dense)            (None, 10)                110       \n",
      "_________________________________________________________________\n",
      "dense_502 (Dense)            (None, 10)                110       \n",
      "_________________________________________________________________\n",
      "dense_503 (Dense)            (None, 1)                 11        \n",
      "=================================================================\n",
      "Total params: 321\n",
      "Trainable params: 321\n",
      "Non-trainable params: 0\n",
      "_________________________________________________________________\n",
      "None\n"
     ]
    }
   ],
   "source": [
    "n_epochs = 50\n",
    "n_hidden_layers = 3\n",
    "errors_3_layers = run_trainings(features_norm, target, n_epochs, n_hidden_layers)"
   ]
  },
  {
   "cell_type": "code",
   "execution_count": 19,
   "metadata": {},
   "outputs": [
    {
     "name": "stdout",
     "output_type": "stream",
     "text": [
      "Using 100 epochs and normalized features:\n",
      "Mean of mean squared errors: 128.76145924142867\n",
      "Standard deviation of mean squared errors: 15.15424505084721\n"
     ]
    }
   ],
   "source": [
    "print('Using 100 epochs and normalized features:')\n",
    "print_error_stats(errors_3_layers)"
   ]
  },
  {
   "cell_type": "markdown",
   "metadata": {},
   "source": [
    "**How does the mean of the mean squared errors compare to that from Step B?**\n",
    "\n",
    "Answer: Increasing the number of hidden layers from 1 to 3 improves the models significantly. The mean error is a lot smaller, and the standard deviation as well."
   ]
  },
  {
   "cell_type": "code",
   "execution_count": null,
   "metadata": {},
   "outputs": [],
   "source": []
  }
 ],
 "metadata": {
  "kernelspec": {
   "display_name": "Python 3.8",
   "language": "python",
   "name": "pycharm-5010d51f"
  },
  "language_info": {
   "codemirror_mode": {
    "name": "ipython",
    "version": 3
   },
   "file_extension": ".py",
   "mimetype": "text/x-python",
   "name": "python",
   "nbconvert_exporter": "python",
   "pygments_lexer": "ipython3",
   "version": "3.8.5"
  },
  "toc-autonumbering": false
 },
 "nbformat": 4,
 "nbformat_minor": 4
}
